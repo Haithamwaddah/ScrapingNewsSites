{
 "cells": [
  {
   "cell_type": "code",
   "execution_count": 166,
   "metadata": {},
   "outputs": [],
   "source": [
    "from bs4 import BeautifulSoup\n",
    "import requests"
   ]
  },
  {
   "cell_type": "code",
   "execution_count": 167,
   "metadata": {},
   "outputs": [],
   "source": [
    "headlines=[]"
   ]
  },
  {
   "cell_type": "markdown",
   "metadata": {},
   "source": [
    "# Google News"
   ]
  },
  {
   "cell_type": "code",
   "execution_count": 168,
   "metadata": {},
   "outputs": [],
   "source": [
    "url1=requests.get('https://news.google.com/topstories?hl=en-IN&gl=IN&ceid=IN:en').text\n",
    "soup1=BeautifulSoup(url1, 'lxml')"
   ]
  },
  {
   "cell_type": "code",
   "execution_count": 169,
   "metadata": {},
   "outputs": [],
   "source": [
    "def gnews(link):\n",
    "    url=requests.get(link).text\n",
    "    soup=BeautifulSoup(url1, 'lxml')\n",
    "    for i in ['h3', 'h4']:\n",
    "        for j in soup.findAll(i):\n",
    "            headlines.append(j.text)"
   ]
  },
  {
   "cell_type": "code",
   "execution_count": 170,
   "metadata": {},
   "outputs": [
    {
     "name": "stdout",
     "output_type": "stream",
     "text": [
      "TOTAL from here:- 1870\n"
     ]
    }
   ],
   "source": [
    "for i in soup1.findAll('a', class_='SFllF'):\n",
    "    x=str(i)\n",
    "    try:\n",
    "        gnews('https://news.google.com/'+x[x.index('./')+2:x.index('ceid=IN%3Aen')+12])\n",
    "    except:\n",
    "        continue\n",
    "print('TOTAL from here:- '+str(len(headlines)))"
   ]
  },
  {
   "cell_type": "markdown",
   "metadata": {},
   "source": [
    "# FoxNews"
   ]
  },
  {
   "cell_type": "code",
   "execution_count": 171,
   "metadata": {},
   "outputs": [],
   "source": [
    "url2=requests.get('https://www.foxnews.com/').text\n",
    "soup2=BeautifulSoup(url2, 'lxml')"
   ]
  },
  {
   "cell_type": "code",
   "execution_count": 172,
   "metadata": {},
   "outputs": [],
   "source": [
    "x=soup2.find('nav', id='main-nav')"
   ]
  },
  {
   "cell_type": "code",
   "execution_count": 173,
   "metadata": {},
   "outputs": [],
   "source": [
    "l=x.findAll('a')\n",
    "l.pop()\n",
    "l.pop()\n",
    "for i in range(len(l)):\n",
    "    t=str(l[i])\n",
    "    t=t[t.index('href=\"')+8:t.index('\"', t.index('href=\"')+6)]\n",
    "    l[i]=t\n",
    "l.append('www.foxnews.com')"
   ]
  },
  {
   "cell_type": "code",
   "execution_count": 174,
   "metadata": {},
   "outputs": [
    {
     "name": "stdout",
     "output_type": "stream",
     "text": [
      "TOTAL from here:- 619\n"
     ]
    }
   ],
   "source": [
    "number=1\n",
    "for i in l:\n",
    "    urli=requests.get('https://'+i).text\n",
    "    soupi=BeautifulSoup(urli, 'lxml')\n",
    "    for j in ['h2', 'h4']:\n",
    "               for k in soupi.findAll(j):\n",
    "                    headlines.append(k.text)\n",
    "                    number+=1\n",
    "print('TOTAL from here:- '+str(number))"
   ]
  },
  {
   "cell_type": "markdown",
   "metadata": {},
   "source": [
    "# NBC NEWS"
   ]
  },
  {
   "cell_type": "code",
   "execution_count": 175,
   "metadata": {},
   "outputs": [],
   "source": [
    "url3=requests.get('https://www.nbcnews.com/').text\n",
    "soup3=BeautifulSoup(url3, 'lxml')"
   ]
  },
  {
   "cell_type": "code",
   "execution_count": 176,
   "metadata": {},
   "outputs": [],
   "source": [
    "l=soup3.findAll('a', class_='menu-list-item-link')\n",
    "for i in range(len(l)):\n",
    "    t=str(l[i])\n",
    "    t=t[t.index('href=\"')+14:t.index('\"', t.index('href=\"')+6)]\n",
    "    l[i]=t\n",
    "l.append('www.nbcnews.com/')"
   ]
  },
  {
   "cell_type": "code",
   "execution_count": 177,
   "metadata": {},
   "outputs": [
    {
     "name": "stdout",
     "output_type": "stream",
     "text": [
      "TOTAL from here:- 4279\n"
     ]
    }
   ],
   "source": [
    "number=1\n",
    "for i in l:\n",
    "    try:\n",
    "        urli=requests.get('https://'+i).text\n",
    "        soupi=BeautifulSoup(urli, 'lxml')\n",
    "        for j in ['h2', 'h3', 'h4', 'h5','h6']:\n",
    "                   for k in soupi.findAll(j):\n",
    "                        headlines.append(k.text)\n",
    "                        number+=1\n",
    "    except:\n",
    "            continue\n",
    "print('TOTAL from here:- '+str(number))"
   ]
  },
  {
   "cell_type": "markdown",
   "metadata": {},
   "source": [
    "# InShorts"
   ]
  },
  {
   "cell_type": "code",
   "execution_count": 178,
   "metadata": {},
   "outputs": [
    {
     "name": "stdout",
     "output_type": "stream",
     "text": [
      "TOTAL from here:- 310\n"
     ]
    }
   ],
   "source": [
    "number=1\n",
    "for j in ['','national', 'business', 'sports', 'world', 'politics', 'technology', 'startup', 'entertainment', 'miscellaneous', 'hatke', 'science', 'automobile']:\n",
    "    url=requests.get('https://inshorts.com/en/read'+'/'+j).text\n",
    "    soup=BeautifulSoup(url,'lxml')\n",
    "    for i in soup.findAll('span', itemprop=\"headline\"):\n",
    "        headlines.append(i.text)\n",
    "        number+=1\n",
    "print('TOTAL from here:- '+str(number))"
   ]
  },
  {
   "cell_type": "markdown",
   "metadata": {},
   "source": [
    "# Hindustan Times"
   ]
  },
  {
   "cell_type": "code",
   "execution_count": 179,
   "metadata": {},
   "outputs": [],
   "source": [
    "url4=requests.get('https://www.hindustantimes.com/').text\n",
    "soup4=BeautifulSoup(url4,'lxml')"
   ]
  },
  {
   "cell_type": "code",
   "execution_count": 180,
   "metadata": {},
   "outputs": [],
   "source": [
    "x=soup4.find('nav', id='nav')\n",
    "l=x.findAll('a')\n",
    "for i in range(len(l)):\n",
    "    t=str(l[i])\n",
    "    t=t[t.index('href=\"')+6:t.index('\"', t.index('href=\"')+6)]\n",
    "    l[i]=t\n",
    "l.append('')"
   ]
  },
  {
   "cell_type": "code",
   "execution_count": 181,
   "metadata": {},
   "outputs": [
    {
     "name": "stdout",
     "output_type": "stream",
     "text": [
      "TOTAL from here:- 1282\n"
     ]
    }
   ],
   "source": [
    "number=1\n",
    "for i in l:\n",
    "    try:\n",
    "        urli=requests.get('https://www.hindustantimes.com'+i).text\n",
    "        soupi=BeautifulSoup(urli, 'lxml')\n",
    "        for j in ['h1', 'h2', 'h3', 'h4', 'h5','h6']:\n",
    "                   for k in soupi.findAll(j):\n",
    "                        headlines.append(k.text)\n",
    "                        number+=1\n",
    "    except:\n",
    "            continue\n",
    "print('TOTAL from here:- '+str(number))"
   ]
  },
  {
   "cell_type": "markdown",
   "metadata": {},
   "source": [
    "# Yahoo News"
   ]
  },
  {
   "cell_type": "code",
   "execution_count": 182,
   "metadata": {},
   "outputs": [
    {
     "name": "stdout",
     "output_type": "stream",
     "text": [
      "TOTAL from here:- 1489\n"
     ]
    }
   ],
   "source": [
    "number=1\n",
    "for l in ['', 'national', 'coronavirus-updates', 'yahoo-india-originals', 'world', 'sport']:\n",
    "    try:\n",
    "        urli=requests.get('https://in.news.yahoo.com/'+l).text\n",
    "        soupi=BeautifulSoup(url3,'lxml')\n",
    "        for j in ['h2', 'h3', 'h4', 'h5','h6']:\n",
    "                       for k in soupi.findAll(j):\n",
    "                            headlines.append(k.text)\n",
    "                            number+=1\n",
    "    except:\n",
    "        continue\n",
    "print('TOTAL from here:- '+str(number))"
   ]
  },
  {
   "cell_type": "code",
   "execution_count": 183,
   "metadata": {},
   "outputs": [
    {
     "data": {
      "text/plain": [
       "9844"
      ]
     },
     "execution_count": 183,
     "metadata": {},
     "output_type": "execute_result"
    }
   ],
   "source": [
    "len(headlines)"
   ]
  },
  {
   "cell_type": "code",
   "execution_count": 184,
   "metadata": {},
   "outputs": [],
   "source": [
    "import pandas as pd\n",
    "import numpy as np"
   ]
  },
  {
   "cell_type": "code",
   "execution_count": 185,
   "metadata": {},
   "outputs": [],
   "source": [
    "buffer=pd.read_csv(r'C:/Users/shubh/Desktop/words.csv')"
   ]
  },
  {
   "cell_type": "code",
   "execution_count": 187,
   "metadata": {},
   "outputs": [],
   "source": [
    "hot=[]\n",
    "for i in zip(buffer['Most Popular Uncommon Words'], buffer['Most Popular 2-Word Phrases'], buffer['Most Popular 3-Word Phrases'], buffer['Most Popular 4-Word Phrases']):\n",
    "    for j in i:\n",
    "        if (pd.isnull(j)==False):\n",
    "            hot.append(j)\n",
    "        else:\n",
    "            continue\n",
    "#Added some new words that are currently HOT. This is temporary and ought be removed or replaced according to future global scenarios.\n",
    "for i in ['corona', 'covid', 'virus', 'wuhan', 'China', 'oil', 'cases', 'deaths']:\n",
    "    hot.append(i)"
   ]
  },
  {
   "cell_type": "code",
   "execution_count": 188,
   "metadata": {},
   "outputs": [],
   "source": [
    "viral=[]\n",
    "for i in headlines:\n",
    "    c=0\n",
    "    i=i.lower()\n",
    "    for j in hot:\n",
    "        if (i.find(j)!=-1):\n",
    "            c+=1\n",
    "    viral.append(c)"
   ]
  },
  {
   "cell_type": "code",
   "execution_count": 189,
   "metadata": {},
   "outputs": [],
   "source": [
    "finalData = pd.DataFrame({'id':range(len(headlines)), 'headlines':headlines, 'ChanceOfVirality':viral})\n",
    "finalData.to_csv('viral-news-dataset.csv')"
   ]
  },
  {
   "cell_type": "code",
   "execution_count": 190,
   "metadata": {},
   "outputs": [
    {
     "data": {
      "text/html": [
       "<div>\n",
       "<style scoped>\n",
       "    .dataframe tbody tr th:only-of-type {\n",
       "        vertical-align: middle;\n",
       "    }\n",
       "\n",
       "    .dataframe tbody tr th {\n",
       "        vertical-align: top;\n",
       "    }\n",
       "\n",
       "    .dataframe thead th {\n",
       "        text-align: right;\n",
       "    }\n",
       "</style>\n",
       "<table border=\"1\" class=\"dataframe\">\n",
       "  <thead>\n",
       "    <tr style=\"text-align: right;\">\n",
       "      <th></th>\n",
       "      <th>id</th>\n",
       "      <th>headlines</th>\n",
       "      <th>ChanceOfVirality</th>\n",
       "    </tr>\n",
       "  </thead>\n",
       "  <tbody>\n",
       "    <tr>\n",
       "      <th>0</th>\n",
       "      <td>0</td>\n",
       "      <td>Need to give importance to economy and also ba...</td>\n",
       "      <td>2</td>\n",
       "    </tr>\n",
       "    <tr>\n",
       "      <th>1</th>\n",
       "      <td>1</td>\n",
       "      <td>Mint Covid Tracker: Despite slowing trajectory...</td>\n",
       "      <td>2</td>\n",
       "    </tr>\n",
       "    <tr>\n",
       "      <th>2</th>\n",
       "      <td>2</td>\n",
       "      <td>‘Won’t lose a single rupee’: Govt clarifies af...</td>\n",
       "      <td>1</td>\n",
       "    </tr>\n",
       "    <tr>\n",
       "      <th>3</th>\n",
       "      <td>3</td>\n",
       "      <td>Will North Korea Get its 'First Female Dictato...</td>\n",
       "      <td>1</td>\n",
       "    </tr>\n",
       "    <tr>\n",
       "      <th>4</th>\n",
       "      <td>4</td>\n",
       "      <td>Coronavirus Pandemic LIVE Updates: 1,436 Cases...</td>\n",
       "      <td>4</td>\n",
       "    </tr>\n",
       "    <tr>\n",
       "      <th>5</th>\n",
       "      <td>5</td>\n",
       "      <td>An Expert Explains: What is the future of migr...</td>\n",
       "      <td>1</td>\n",
       "    </tr>\n",
       "    <tr>\n",
       "      <th>6</th>\n",
       "      <td>6</td>\n",
       "      <td>6,184 or 22.17% COVID-19 patients have recover...</td>\n",
       "      <td>1</td>\n",
       "    </tr>\n",
       "    <tr>\n",
       "      <th>7</th>\n",
       "      <td>7</td>\n",
       "      <td>Anantnag braces for Covid-19 spurt as pregnant...</td>\n",
       "      <td>2</td>\n",
       "    </tr>\n",
       "    <tr>\n",
       "      <th>8</th>\n",
       "      <td>8</td>\n",
       "      <td>Congress targets Centre over antibody test kit...</td>\n",
       "      <td>1</td>\n",
       "    </tr>\n",
       "    <tr>\n",
       "      <th>9</th>\n",
       "      <td>9</td>\n",
       "      <td>Over 80% wheat crop harvested: MHA</td>\n",
       "      <td>0</td>\n",
       "    </tr>\n",
       "    <tr>\n",
       "      <th>10</th>\n",
       "      <td>10</td>\n",
       "      <td>China’s Wuhan city discharges last COVID-19 pa...</td>\n",
       "      <td>2</td>\n",
       "    </tr>\n",
       "    <tr>\n",
       "      <th>11</th>\n",
       "      <td>11</td>\n",
       "      <td>Australia rejects Chinese 'economic coercion' ...</td>\n",
       "      <td>2</td>\n",
       "    </tr>\n",
       "    <tr>\n",
       "      <th>12</th>\n",
       "      <td>12</td>\n",
       "      <td>Saudi Arabia ends death penalty for minors and...</td>\n",
       "      <td>0</td>\n",
       "    </tr>\n",
       "    <tr>\n",
       "      <th>13</th>\n",
       "      <td>13</td>\n",
       "      <td>Coronavirus Outbreak LIVE Updates: Five more C...</td>\n",
       "      <td>7</td>\n",
       "    </tr>\n",
       "    <tr>\n",
       "      <th>14</th>\n",
       "      <td>14</td>\n",
       "      <td>Coronavirus: What mutual fund investors should...</td>\n",
       "      <td>4</td>\n",
       "    </tr>\n",
       "  </tbody>\n",
       "</table>\n",
       "</div>"
      ],
      "text/plain": [
       "    id                                          headlines  ChanceOfVirality\n",
       "0    0  Need to give importance to economy and also ba...                 2\n",
       "1    1  Mint Covid Tracker: Despite slowing trajectory...                 2\n",
       "2    2  ‘Won’t lose a single rupee’: Govt clarifies af...                 1\n",
       "3    3  Will North Korea Get its 'First Female Dictato...                 1\n",
       "4    4  Coronavirus Pandemic LIVE Updates: 1,436 Cases...                 4\n",
       "5    5  An Expert Explains: What is the future of migr...                 1\n",
       "6    6  6,184 or 22.17% COVID-19 patients have recover...                 1\n",
       "7    7  Anantnag braces for Covid-19 spurt as pregnant...                 2\n",
       "8    8  Congress targets Centre over antibody test kit...                 1\n",
       "9    9                 Over 80% wheat crop harvested: MHA                 0\n",
       "10  10  China’s Wuhan city discharges last COVID-19 pa...                 2\n",
       "11  11  Australia rejects Chinese 'economic coercion' ...                 2\n",
       "12  12  Saudi Arabia ends death penalty for minors and...                 0\n",
       "13  13  Coronavirus Outbreak LIVE Updates: Five more C...                 7\n",
       "14  14  Coronavirus: What mutual fund investors should...                 4"
      ]
     },
     "execution_count": 190,
     "metadata": {},
     "output_type": "execute_result"
    }
   ],
   "source": [
    "finalData.head(15)"
   ]
  },
  {
   "cell_type": "code",
   "execution_count": null,
   "metadata": {},
   "outputs": [],
   "source": []
  }
 ],
 "metadata": {
  "kernelspec": {
   "display_name": "Python 3",
   "language": "python",
   "name": "python3"
  },
  "language_info": {
   "codemirror_mode": {
    "name": "ipython",
    "version": 3
   },
   "file_extension": ".py",
   "mimetype": "text/x-python",
   "name": "python",
   "nbconvert_exporter": "python",
   "pygments_lexer": "ipython3",
   "version": "3.7.0"
  }
 },
 "nbformat": 4,
 "nbformat_minor": 2
}
